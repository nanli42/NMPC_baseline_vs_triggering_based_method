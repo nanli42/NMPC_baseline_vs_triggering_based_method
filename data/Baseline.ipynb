{
 "cells": [
  {
   "cell_type": "markdown",
   "id": "measured-darkness",
   "metadata": {},
   "source": [
    "# Utility"
   ]
  },
  {
   "cell_type": "code",
   "execution_count": 1,
   "id": "hungry-patrick",
   "metadata": {},
   "outputs": [],
   "source": [
    "from acados_tool.plotFcn import *\n",
    "import numpy as np\n",
    "\n",
    "def calc_baseline(time_actual):\n",
    "    prog_t = []\n",
    "    calc_t = []\n",
    "    diff_t = []\n",
    "    iter_num = []\n",
    "    step = 0\n",
    "    for i in range(1, time_actual.shape[0]-1):\n",
    "        step += time_actual[i][1]\n",
    "        prog_t += [time_actual[i][2]]\n",
    "        calc_t += [time_actual[i][0]]\n",
    "        diff_t += [time_actual[i][2]-time_actual[i][0]]\n",
    "        iter_num += [time_actual[i][3]]\n",
    "\n",
    "    \"\"\"\n",
    "    plt.plot(prog_t[1:], 'gx')\n",
    "    plt.plot(calc_t[1:], 'bx')\n",
    "    plt.show()\n",
    "\n",
    "    plt.plot(diff_t[1:], 'bx')\n",
    "    plt.plot([0,140],[0,0], 'r')\n",
    "    plt.show()\n",
    "    \"\"\"\n",
    "    n, bins, patches = plt.hist(diff_t, 10, facecolor='blue', alpha=0.5, rwidth=0.9)\n",
    "    plt.plot([0,0],[0,40], 'r')\n",
    "    plt.xlabel('Progress time minus Calculation time at each step [ms]')\n",
    "    plt.ylabel('Count')\n",
    "    plt.title('Histogram')\n",
    "    plt.show()\n",
    "\n",
    "    print(\"prog_t max: \", max(prog_t[1:]), \" - min: \", min(prog_t[1:]), \" - avg: \", np.mean(prog_t[1:]))\n",
    "    print(\"calc_t max: \", max(calc_t[1:]), \" - min: \", min(calc_t[1:]), \" - avg: \", np.mean(calc_t[1:]))\n",
    "    print(\"iter_num max: \", max(iter_num[1:]), \" - min: \", min(iter_num[1:]), \" - avg: \", np.mean(iter_num[1:]))\n",
    "    \n",
    "    return prog_t, calc_t, diff_t, iter_num"
   ]
  },
  {
   "cell_type": "markdown",
   "id": "stupid-revelation",
   "metadata": {},
   "source": [
    "# Track 1"
   ]
  },
  {
   "cell_type": "markdown",
   "id": "enabling-chile",
   "metadata": {},
   "source": [
    "## N15"
   ]
  },
  {
   "cell_type": "code",
   "execution_count": 2,
   "id": "sharing-latino",
   "metadata": {},
   "outputs": [
    {
     "data": {
      "image/png": "[encoded data removed]",
      "text/plain": [
       "<Figure size 432x288 with 1 Axes>"
      ]
     },
     "metadata": {
      "needs_background": "light"
     },
     "output_type": "display_data"
    },
    {
     "name": "stdout",
     "output_type": "stream",
     "text": [
      "prog_t max:  57.800827  - min:  17.224272  - avg:  33.237896\n",
      "calc_t max:  19.728  - min:  2.403  - avg:  6.842846\n",
      "iter_num max:  15.0  - min:  2.0  - avg:  4.3636365\n",
      "TOTAL computation time:  990.8720016479492\n",
      "lap time:  [ 8.700000e+00 -8.441600e-02 -8.488000e-03  1.600000e+00  3.384950e-01\n",
      "  8.215400e-02  4.850803e+00]\n"
     ]
    }
   ],
   "source": [
    "time_actual = np.loadtxt(\"../result/baseline/track1/N15/traj_time.txt\", usecols=range(0,), dtype=np.float32)\n",
    "traj_actual = np.loadtxt(\"../result/baseline/track1/N15/traj_actual.txt\", usecols=range(0,), dtype=np.float32)\n",
    "prog_t, calc_t, diff_t, iter_num = calc_baseline(time_actual)\n",
    "print(\"TOTAL computation time: \", sum(time_actual[:,0]))\n",
    "print(\"lap time: \", traj_actual[-1])"
   ]
  },
  {
   "cell_type": "markdown",
   "id": "incident-charity",
   "metadata": {},
   "source": [
    "## N30"
   ]
  },
  {
   "cell_type": "code",
   "execution_count": 3,
   "id": "technical-river",
   "metadata": {},
   "outputs": [
    {
     "data": {
      "image/png": "[encoded data removed]",
      "text/plain": [
       "<Figure size 432x288 with 1 Axes>"
      ]
     },
     "metadata": {
      "needs_background": "light"
     },
     "output_type": "display_data"
    },
    {
     "name": "stdout",
     "output_type": "stream",
     "text": [
      "prog_t max:  54.460114  - min:  17.26772  - avg:  32.693333\n",
      "calc_t max:  81.624  - min:  8.126  - avg:  27.041525\n",
      "iter_num max:  11.0  - min:  2.0  - avg:  4.321678\n",
      "TOTAL computation time:  4085.4410037994385\n",
      "lap time:  [ 8.700000e+00 -7.078700e-02  1.472510e-01  1.600000e+00  3.447990e-01\n",
      " -4.922000e-03  4.773227e+00]\n"
     ]
    }
   ],
   "source": [
    "time_actual = np.loadtxt(\"../result/baseline/track1/N30/traj_time.txt\", usecols=range(0,), dtype=np.float32)\n",
    "traj_actual = np.loadtxt(\"../result/baseline/track1/N30/traj_actual.txt\", usecols=range(0,), dtype=np.float32)\n",
    "prog_t, calc_t, diff_t, iter_num = calc_baseline(time_actual)\n",
    "print(\"TOTAL computation time: \", sum(time_actual[:,0]))\n",
    "print(\"lap time: \", traj_actual[-1])"
   ]
  },
  {
   "cell_type": "markdown",
   "id": "extended-affair",
   "metadata": {},
   "source": [
    "## T budget"
   ]
  },
  {
   "cell_type": "code",
   "execution_count": 4,
   "id": "internal-device",
   "metadata": {},
   "outputs": [
    {
     "name": "stdout",
     "output_type": "stream",
     "text": [
      "t_per_iter:  6.245948733427586\n",
      "T budget:  149.90276960226205\n"
     ]
    }
   ],
   "source": [
    "print(\"t_per_iter: \", sum(calc_t)/sum(iter_num))\n",
    "print(\"T budget: \", sum(calc_t)/sum(iter_num)*20*1.2)"
   ]
  },
  {
   "cell_type": "markdown",
   "id": "female-structure",
   "metadata": {},
   "source": [
    "# Track 2"
   ]
  },
  {
   "cell_type": "markdown",
   "id": "convertible-durham",
   "metadata": {},
   "source": [
    "## N15"
   ]
  },
  {
   "cell_type": "code",
   "execution_count": 5,
   "id": "structured-prefix",
   "metadata": {},
   "outputs": [
    {
     "data": {
      "image/png": "[encoded data removed]",
      "text/plain": [
       "<Figure size 432x288 with 1 Axes>"
      ]
     },
     "metadata": {
      "needs_background": "light"
     },
     "output_type": "display_data"
    },
    {
     "name": "stdout",
     "output_type": "stream",
     "text": [
      "prog_t max:  73.69709  - min:  12.769529  - avg:  33.85155\n",
      "calc_t max:  19.174  - min:  1.249  - avg:  6.356389\n",
      "iter_num max:  14.0  - min:  1.0  - avg:  3.8590603\n",
      "TOTAL computation time:  1908.2039939165115\n",
      "lap time:  [18.       -0.070747 -0.209994  1.6       0.833475  0.474652 10.18947 ]\n"
     ]
    }
   ],
   "source": [
    "time_actual = np.loadtxt(\"../result/baseline/track2/N15/traj_time.txt\", usecols=range(0,), dtype=np.float32)\n",
    "prog_t, calc_t, diff_t, iter_num = calc_baseline(time_actual)\n",
    "traj_actual = np.loadtxt(\"../result/baseline/track2/N15/traj_actual.txt\", usecols=range(0,), dtype=np.float32)\n",
    "print(\"TOTAL computation time: \", sum(time_actual[:,0]))\n",
    "print(\"lap time: \", traj_actual[-1])"
   ]
  },
  {
   "cell_type": "code",
   "execution_count": 6,
   "id": "occupied-converter",
   "metadata": {},
   "outputs": [
    {
     "name": "stdout",
     "output_type": "stream",
     "text": [
      "158 -2.1686134\n",
      "159 -0.7418556\n"
     ]
    },
    {
     "data": {
      "text/plain": [
       "[None, None]"
      ]
     },
     "execution_count": 6,
     "metadata": {},
     "output_type": "execute_result"
    }
   ],
   "source": [
    "[print(i, e) for i, e in enumerate(diff_t) if e < 0]"
   ]
  },
  {
   "cell_type": "markdown",
   "id": "aboriginal-chemistry",
   "metadata": {},
   "source": [
    "## N30"
   ]
  },
  {
   "cell_type": "code",
   "execution_count": 7,
   "id": "selective-mailman",
   "metadata": {},
   "outputs": [
    {
     "data": {
      "image/png": "[encoded data removed]",
      "text/plain": [
       "<Figure size 432x288 with 1 Axes>"
      ]
     },
     "metadata": {
      "needs_background": "light"
     },
     "output_type": "display_data"
    },
    {
     "name": "stdout",
     "output_type": "stream",
     "text": [
      "prog_t max:  66.48048  - min:  12.24682  - avg:  33.431908\n",
      "calc_t max:  101.313  - min:  3.809  - avg:  25.173416\n",
      "iter_num max:  18.0  - min:  1.0  - avg:  3.9697986\n",
      "TOTAL computation time:  7616.945012807846\n",
      "lap time:  [18.       -0.041194 -0.168675  1.6       0.786126  0.389159 10.064026]\n"
     ]
    }
   ],
   "source": [
    "time_actual = np.loadtxt(\"../result/baseline/track2/N30/traj_time.txt\", usecols=range(0,), dtype=np.float32)\n",
    "prog_t, calc_t, diff_t, iter_num = calc_baseline(time_actual)\n",
    "traj_actual = np.loadtxt(\"../result/baseline/track2/N30/traj_actual.txt\", usecols=range(0,), dtype=np.float32)\n",
    "print(\"TOTAL computation time: \", sum(time_actual[:,0]))\n",
    "print(\"lap time: \", traj_actual[-1])"
   ]
  },
  {
   "cell_type": "markdown",
   "id": "worthy-heater",
   "metadata": {},
   "source": [
    "## T budget"
   ]
  },
  {
   "cell_type": "code",
   "execution_count": 8,
   "id": "social-contamination",
   "metadata": {},
   "outputs": [
    {
     "name": "stdout",
     "output_type": "stream",
     "text": [
      "t_per_iter:  6.327243074837405\n",
      "T budget:  151.85383379609772\n"
     ]
    }
   ],
   "source": [
    "print(\"t_per_iter: \", sum(calc_t)/sum(iter_num))\n",
    "print(\"T budget: \", sum(calc_t)/sum(iter_num)*20*1.2)"
   ]
  },
  {
   "cell_type": "code",
   "execution_count": null,
   "id": "statutory-master",
   "metadata": {},
   "outputs": [],
   "source": []
  }
 ],
 "metadata": {
  "kernelspec": {
   "display_name": "Python 3",
   "language": "python",
   "name": "python3"
  },
  "language_info": {
   "codemirror_mode": {
    "name": "ipython",
    "version": 3
   },
   "file_extension": ".py",
   "mimetype": "text/x-python",
   "name": "python",
   "nbconvert_exporter": "python",
   "pygments_lexer": "ipython3",
   "version": "3.6.9"
  }
 },
 "nbformat": 4,
 "nbformat_minor": 5
}
