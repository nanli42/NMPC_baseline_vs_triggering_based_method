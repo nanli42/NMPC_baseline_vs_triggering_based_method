{
 "cells": [
  {
   "cell_type": "markdown",
   "id": "hollow-paint",
   "metadata": {},
   "source": [
    "# Utility"
   ]
  },
  {
   "cell_type": "code",
   "execution_count": 3,
   "id": "funded-harbor",
   "metadata": {},
   "outputs": [],
   "source": [
    "from acados_tool.plotFcn import *\n",
    "import numpy as np\n",
    "\n",
    "def calc_baseline(time_actual, opt=0):\n",
    "    prog_t = []\n",
    "    calc_t = []\n",
    "    diff_t = []\n",
    "    iter_num = []\n",
    "    step = 0\n",
    "    for i in range(1, time_actual.shape[0]-1):\n",
    "        step += time_actual[i][1]\n",
    "        prog_t += [time_actual[i][2]]\n",
    "        calc_t += [time_actual[i][0]]\n",
    "        diff_t += [time_actual[i][2]-time_actual[i][0]]\n",
    "        iter_num += [time_actual[i][3]]\n",
    "\n",
    "    \"\"\"\n",
    "    plt.plot(prog_t[1:], 'gx')\n",
    "    plt.plot(calc_t[1:], 'bx')\n",
    "    plt.show()\n",
    "\n",
    "    plt.plot(diff_t[1:], 'bx')\n",
    "    plt.plot([0,140],[0,0], 'r')\n",
    "    plt.show()\n",
    "    \"\"\"\n",
    "    n, bins, patches = plt.hist(diff_t, 10, facecolor='blue', alpha=0.5, rwidth=0.9)\n",
    "    if (opt==1):\n",
    "        plt.plot([0,0],[0,100], 'r')        \n",
    "    elif (opt==2):\n",
    "        plt.plot([0,0],[0,30], 'r')        \n",
    "    elif (opt==3):\n",
    "        plt.plot([0,0],[0,120], 'r')  \n",
    "    else:\n",
    "        plt.plot([0,0],[0,40], 'r')\n",
    "    plt.xticks(fontsize=14)\n",
    "    plt.yticks(fontsize=14)\n",
    "    plt.xlabel('Progress time minus Calculation time at each step [ms]', fontsize=14)\n",
    "    plt.ylabel('Count', fontsize=14)\n",
    "    #plt.title('Histogram')\n",
    "    plt.show()\n",
    "\n",
    "    print(\"prog_t max: \", max(prog_t[1:]), \" - min: \", min(prog_t[1:]), \" - avg: \", np.mean(prog_t[1:]))\n",
    "    print(\"calc_t max: \", max(calc_t[1:]), \" - min: \", min(calc_t[1:]), \" - avg: \", np.mean(calc_t[1:]))\n",
    "    print(\"iter_num max: \", max(iter_num[1:]), \" - min: \", min(iter_num[1:]), \" - avg: \", np.mean(iter_num[1:]))\n",
    "    \n",
    "    return prog_t, calc_t, diff_t, iter_num"
   ]
  },
  {
   "cell_type": "markdown",
   "id": "rubber-plastic",
   "metadata": {},
   "source": [
    "# Track 1"
   ]
  },
  {
   "cell_type": "markdown",
   "id": "leading-boards",
   "metadata": {},
   "source": [
    "## N15"
   ]
  },
  {
   "cell_type": "code",
   "execution_count": 4,
   "id": "western-episode",
   "metadata": {},
   "outputs": [
    {
     "data": {
      "image/png": "[encoded data removed]",
      "text/plain": [
       "<Figure size 432x288 with 1 Axes>"
      ]
     },
     "metadata": {
      "needs_background": "light"
     },
     "output_type": "display_data"
    },
    {
     "name": "stdout",
     "output_type": "stream",
     "text": [
      "prog_t max:  127.80381  - min:  58.015133  - avg:  65.196014\n",
      "calc_t max:  63.402  - min:  2.346  - avg:  11.665017\n",
      "iter_num max:  18.0  - min:  1.0  - avg:  3.366782\n",
      "TOTAL computation time:  3411.5269963741302\n",
      "lap time:  [ 8.7000000e+01 -7.3218697e-01 -3.7930000e-03  5.0000000e+00\n",
      " -0.0000000e+00  8.7670004e-03  1.9040358e+01]\n"
     ]
    }
   ],
   "source": [
    "time_actual = np.loadtxt(\"../result/baseline/track1/N15/traj_time.txt\", usecols=range(0,), dtype=np.float32)\n",
    "traj_actual = np.loadtxt(\"../result/baseline/track1/N15/traj_actual.txt\", usecols=range(0,), dtype=np.float32)\n",
    "prog_t, calc_t, diff_t, iter_num = calc_baseline(time_actual,2)\n",
    "print(\"TOTAL computation time: \", sum(time_actual[:,0]))\n",
    "print(\"lap time: \", traj_actual[-1])"
   ]
  },
  {
   "cell_type": "markdown",
   "id": "occasional-walker",
   "metadata": {},
   "source": [
    "## N30"
   ]
  },
  {
   "cell_type": "code",
   "execution_count": 5,
   "id": "polish-lebanon",
   "metadata": {
    "scrolled": false
   },
   "outputs": [
    {
     "data": {
      "image/png": "[encoded data removed]",
      "text/plain": [
       "<Figure size 432x288 with 1 Axes>"
      ]
     },
     "metadata": {
      "needs_background": "light"
     },
     "output_type": "display_data"
    },
    {
     "name": "stdout",
     "output_type": "stream",
     "text": [
      "prog_t max:  128.63405  - min:  57.968166  - avg:  65.1036\n",
      "calc_t max:  236.801  - min:  6.015  - avg:  38.690434\n",
      "iter_num max:  20.0  - min:  1.0  - avg:  3.3944638\n",
      "TOTAL computation time:  11616.389957427979\n",
      "lap time:  [ 8.700000e+01 -6.897820e-01 -2.295600e-02  5.000000e+00 -0.000000e+00\n",
      "  3.241000e-03  1.901388e+01]\n"
     ]
    }
   ],
   "source": [
    "time_actual = np.loadtxt(\"../result/baseline/track1/N30/traj_time.txt\", usecols=range(0,), dtype=np.float32)\n",
    "traj_actual = np.loadtxt(\"../result/baseline/track1/N30/traj_actual.txt\", usecols=range(0,), dtype=np.float32)\n",
    "prog_t, calc_t, diff_t, iter_num = calc_baseline(time_actual)\n",
    "print(\"TOTAL computation time: \", sum(time_actual[:,0]))\n",
    "print(\"lap time: \", traj_actual[-1])"
   ]
  },
  {
   "cell_type": "code",
   "execution_count": null,
   "id": "another-appendix",
   "metadata": {},
   "outputs": [],
   "source": []
  },
  {
   "cell_type": "markdown",
   "id": "varying-botswana",
   "metadata": {},
   "source": [
    "## T budget"
   ]
  },
  {
   "cell_type": "code",
   "execution_count": 6,
   "id": "invalid-happiness",
   "metadata": {},
   "outputs": [
    {
     "name": "stdout",
     "output_type": "stream",
     "text": [
      "t_per_iter:  11.363148852373273\n",
      "T budget:  272.7155724569585\n"
     ]
    }
   ],
   "source": [
    "print(\"t_per_iter: \", sum(calc_t)/sum(iter_num))\n",
    "print(\"T budget: \", sum(calc_t)/sum(iter_num)*20*1.2)"
   ]
  },
  {
   "cell_type": "markdown",
   "id": "sublime-summit",
   "metadata": {},
   "source": [
    "# Track 2"
   ]
  },
  {
   "cell_type": "markdown",
   "id": "healthy-knitting",
   "metadata": {},
   "source": [
    "## N15"
   ]
  },
  {
   "cell_type": "code",
   "execution_count": 7,
   "id": "promotional-bullet",
   "metadata": {},
   "outputs": [
    {
     "data": {
      "image/png": "[encoded data removed]",
      "text/plain": [
       "<Figure size 432x288 with 1 Axes>"
      ]
     },
     "metadata": {
      "needs_background": "light"
     },
     "output_type": "display_data"
    },
    {
     "name": "stdout",
     "output_type": "stream",
     "text": [
      "prog_t max:  127.80381  - min:  47.492634  - avg:  61.907394\n",
      "calc_t max:  64.39  - min:  2.287  - avg:  9.971851\n",
      "iter_num max:  20.0  - min:  1.0  - avg:  2.7508361\n",
      "TOTAL computation time:  5992.237003564835\n",
      "lap time:  [180.         0.210563   0.2175     5.         0.        -0.186523\n",
      "  37.27934 ]\n"
     ]
    }
   ],
   "source": [
    "time_actual = np.loadtxt(\"../result/baseline/track2/N15/traj_time.txt\", usecols=range(0,), dtype=np.float32)\n",
    "prog_t, calc_t, diff_t, iter_num = calc_baseline(time_actual,1)\n",
    "traj_actual = np.loadtxt(\"../result/baseline/track2/N15/traj_actual.txt\", usecols=range(0,), dtype=np.float32)\n",
    "print(\"TOTAL computation time: \", sum(time_actual[:,0]))\n",
    "print(\"lap time: \", traj_actual[-1])"
   ]
  },
  {
   "cell_type": "code",
   "execution_count": 8,
   "id": "optical-wales",
   "metadata": {
    "scrolled": true
   },
   "outputs": [
    {
     "name": "stdout",
     "output_type": "stream",
     "text": [
      "85 -4.043831\n",
      "292 -1.5152473\n"
     ]
    },
    {
     "data": {
      "text/plain": [
       "[None, None]"
      ]
     },
     "execution_count": 8,
     "metadata": {},
     "output_type": "execute_result"
    }
   ],
   "source": [
    "[print(i, e) for i, e in enumerate(diff_t) if e < 0]"
   ]
  },
  {
   "cell_type": "markdown",
   "id": "convertible-willow",
   "metadata": {},
   "source": [
    "## N30"
   ]
  },
  {
   "cell_type": "code",
   "execution_count": 9,
   "id": "transsexual-nitrogen",
   "metadata": {},
   "outputs": [
    {
     "data": {
      "image/png": "[encoded data removed]",
      "text/plain": [
       "<Figure size 432x288 with 1 Axes>"
      ]
     },
     "metadata": {
      "needs_background": "light"
     },
     "output_type": "display_data"
    },
    {
     "name": "stdout",
     "output_type": "stream",
     "text": [
      "prog_t max:  127.950874  - min:  47.49244  - avg:  61.771164\n",
      "calc_t max:  225.367  - min:  5.112  - avg:  36.802864\n",
      "iter_num max:  20.0  - min:  1.0  - avg:  3.0016723\n",
      "TOTAL computation time:  22076.117043972015\n",
      "lap time:  [180.         0.209256   0.217792   5.        -0.        -0.186322\n",
      "  37.197937]\n"
     ]
    }
   ],
   "source": [
    "time_actual = np.loadtxt(\"../result/baseline/track2/N30/traj_time.txt\", usecols=range(0,), dtype=np.float32)\n",
    "prog_t, calc_t, diff_t, iter_num = calc_baseline(time_actual,3)\n",
    "traj_actual = np.loadtxt(\"../result/baseline/track2/N30/traj_actual.txt\", usecols=range(0,), dtype=np.float32)\n",
    "print(\"TOTAL computation time: \", sum(time_actual[:,0]))\n",
    "print(\"lap time: \", traj_actual[-1])"
   ]
  },
  {
   "cell_type": "markdown",
   "id": "systematic-arkansas",
   "metadata": {},
   "source": [
    "## T budget"
   ]
  },
  {
   "cell_type": "code",
   "execution_count": 11,
   "id": "intelligent-parliament",
   "metadata": {},
   "outputs": [
    {
     "name": "stdout",
     "output_type": "stream",
     "text": [
      "t_per_iter:  12.257275637114764\n",
      "T budget:  294.17461529075433\n"
     ]
    }
   ],
   "source": [
    "print(\"t_per_iter: \", sum(calc_t)/sum(iter_num))\n",
    "print(\"T budget: \", sum(calc_t)/sum(iter_num)*20*1.2)"
   ]
  },
  {
   "cell_type": "code",
   "execution_count": null,
   "id": "sharp-anger",
   "metadata": {},
   "outputs": [],
   "source": []
  },
  {
   "cell_type": "code",
   "execution_count": null,
   "id": "convinced-cooperation",
   "metadata": {},
   "outputs": [],
   "source": []
  },
  {
   "cell_type": "code",
   "execution_count": null,
   "id": "planned-blanket",
   "metadata": {},
   "outputs": [],
   "source": []
  }
 ],
 "metadata": {
  "kernelspec": {
   "display_name": "Python 3",
   "language": "python",
   "name": "python3"
  },
  "language_info": {
   "codemirror_mode": {
    "name": "ipython",
    "version": 3
   },
   "file_extension": ".py",
   "mimetype": "text/x-python",
   "name": "python",
   "nbconvert_exporter": "python",
   "pygments_lexer": "ipython3",
   "version": "3.6.9"
  }
 },
 "nbformat": 4,
 "nbformat_minor": 5
}
